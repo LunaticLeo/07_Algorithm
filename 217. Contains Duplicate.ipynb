{
 "cells": [
  {
   "cell_type": "markdown",
   "id": "9728fdc3",
   "metadata": {},
   "source": [
    "# <center>217. Contains Duplicate</center>"
   ]
  },
  {
   "cell_type": "markdown",
   "id": "30905efc",
   "metadata": {},
   "source": [
    "<div class=\"content__u3I1 question-content__JfgR\">\n",
    "\n",
    "<div>\n",
    "\n",
    "Given an integer array `nums`, return `true` if any value appears **at least twice** in the array, and return `false` if every element is distinct.\n",
    "\n",
    "**Example 1:**\n",
    "\n",
    "<pre>**Input:** nums = [1,2,3,1]\n",
    "**Output:** true\n",
    "</pre>\n",
    "\n",
    "**Example 2:**\n",
    "\n",
    "<pre>**Input:** nums = [1,2,3,4]\n",
    "**Output:** false\n",
    "</pre>\n",
    "\n",
    "**Example 3:**\n",
    "\n",
    "<pre>**Input:** nums = [1,1,1,3,3,4,3,2,4,2]\n",
    "**Output:** true\n",
    "</pre>\n",
    "\n",
    "**Constraints:**\n",
    "\n",
    "*   `1 <= nums.length <= 10<sup>5</sup>`\n",
    "*   `-10<sup>9</sup> <= nums[i] <= 10<sup>9</sup>`\n",
    "\n",
    "</div>\n",
    "\n",
    "</div>"
   ]
  },
  {
   "cell_type": "code",
   "execution_count": null,
   "id": "dd5ae826",
   "metadata": {},
   "outputs": [],
   "source": [
    "%%java\n",
    "// 7ms, 40.01%\n",
    "class Solution {\n",
    "    public boolean containsDuplicate(int[] nums) {\n",
    "        HashMap<Integer,Integer> map = new HashMap<>();\n",
    "        for(int i = 0; i<nums.length;i++){\n",
    "            if (map.getOrDefault(nums[i],0)>0)\n",
    "                return true;\n",
    "            map.put(nums[i],1);\n",
    "        }\n",
    "        \n",
    "        return false;\n",
    "    }\n",
    "}"
   ]
  },
  {
   "cell_type": "code",
   "execution_count": null,
   "id": "8ea1bb43",
   "metadata": {},
   "outputs": [],
   "source": [
    "%%java\n",
    "// 3ms, 99.56%\n",
    "class Solution {\n",
    "    public boolean containsDuplicate(int[] nums) {\n",
    "        Arrays.sort(nums);\n",
    "        for(int i=0;i<nums.length-1;i++)\n",
    "        {\n",
    "            if(nums[i]==nums[i+1])\n",
    "            return true;\n",
    "        }\n",
    "        return false;\n",
    "\n",
    "    }\n",
    "}"
   ]
  },
  {
   "cell_type": "code",
   "execution_count": null,
   "id": "a1f01e66",
   "metadata": {},
   "outputs": [],
   "source": [
    "%%java\n",
    "// 5ms,78.93%\n",
    "class Solution {\n",
    "    public boolean containsDuplicate(int[] nums) {\n",
    "        HashSet<Integer> set = new HashSet<Integer>();\n",
    "        for(int i : nums){\n",
    "            if(set.contains(i)){\n",
    "                return true;\n",
    "            }\n",
    "            set.add(i);\n",
    "        }\n",
    "        return false;\n",
    "    }\n",
    "}"
   ]
  },
  {
   "cell_type": "code",
   "execution_count": null,
   "id": "f7b18499",
   "metadata": {},
   "outputs": [],
   "source": [
    "%%java\n",
    "// Memory Limit Exceeded\n",
    "class Solution {\n",
    "    public boolean containsDuplicate(int[] nums) {\n",
    "        int max = Integer.MIN_VALUE;\n",
    "        int min = Integer.MAX_VALUE;\n",
    "        \n",
    "        for(int num: nums){\n",
    "            if(num < min) {\n",
    "                min = num;\n",
    "            }\n",
    "            if( num > max ){\n",
    "                max = num;\n",
    "            }\n",
    "        }\n",
    "        boolean[] visited = new boolean[max - min + 1];\n",
    "        \n",
    "        for(int num:nums){\n",
    "            if (visited[num - min]) return true;\n",
    "            visited[num-min] = true;\n",
    "        }\n",
    "        \n",
    "        return false;\n",
    "    }\n",
    "}"
   ]
  },
  {
   "cell_type": "code",
   "execution_count": null,
   "id": "7ff91cda",
   "metadata": {},
   "outputs": [],
   "source": [
    "%%python\n",
    "# 96 ms, faster than 80.77% \n",
    "class Solution(object):\n",
    "    def containsDuplicate(self, nums):\n",
    "        \"\"\"\n",
    "        :type nums: List[int]\n",
    "        :rtype: bool\n",
    "        \"\"\"\n",
    "        return len(set(nums)) != len(nums)\n",
    "        "
   ]
  }
 ],
 "metadata": {
  "kernelspec": {
   "display_name": "Python 3 (ipykernel)",
   "language": "python",
   "name": "python3"
  },
  "language_info": {
   "codemirror_mode": {
    "name": "ipython",
    "version": 3
   },
   "file_extension": ".py",
   "mimetype": "text/x-python",
   "name": "python",
   "nbconvert_exporter": "python",
   "pygments_lexer": "ipython3",
   "version": "3.9.7"
  }
 },
 "nbformat": 4,
 "nbformat_minor": 5
}
