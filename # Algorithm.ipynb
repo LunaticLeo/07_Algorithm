{
 "cells": [
  {
   "cell_type": "markdown",
   "id": "92e9b8b9-b85d-4225-b7f1-866458cfde19",
   "metadata": {},
   "source": [
    "## Binary Search\n",
    "binary search use in sorted array, time complexity is O(log(n))  \n",
    "\n",
    "it also able to target in a rotated sort array(see in 33. Search in Rotated Sorted Array), it only need to change the comaparision"
   ]
  },
  {
   "cell_type": "code",
   "execution_count": null,
   "id": "0650ad87-fbda-4c71-9b36-9a596f34c6f4",
   "metadata": {},
   "outputs": [],
   "source": [
    "binarySearch(int left, int right, int target, int[] nums){\n",
    "    while(left<=right){  //left == right is important to save time, if don't, it should check which one(left or right) is equal to target\n",
    "        int mid = (left+right)/2;\n",
    "        if(nums[mid] == target){\n",
    "            return mid;\n",
    "        }else if(nums[mid] < target){\n",
    "            left = mid + 1;\n",
    "        }else{\n",
    "            right = mid -1;\n",
    "        }        \n",
    "    }\n",
    "    return -1;\n",
    "}"
   ]
  },
  {
   "cell_type": "code",
   "execution_count": null,
   "id": "38e7cead-4ebc-46e6-b0ad-9d24089e0ca7",
   "metadata": {},
   "outputs": [],
   "source": []
  }
 ],
 "metadata": {
  "kernelspec": {
   "display_name": "Python 3 (ipykernel)",
   "language": "python",
   "name": "python3"
  },
  "language_info": {
   "codemirror_mode": {
    "name": "ipython",
    "version": 3
   },
   "file_extension": ".py",
   "mimetype": "text/x-python",
   "name": "python",
   "nbconvert_exporter": "python",
   "pygments_lexer": "ipython3",
   "version": "3.9.7"
  }
 },
 "nbformat": 4,
 "nbformat_minor": 5
}
