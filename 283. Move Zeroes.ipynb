{
 "cells": [
  {
   "cell_type": "markdown",
   "id": "b1b8c80e",
   "metadata": {},
   "source": [
    "# <center>283. Move Zeroes</center>"
   ]
  },
  {
   "cell_type": "markdown",
   "id": "e8637b09",
   "metadata": {},
   "source": [
    "Given an integer array `nums`, move all 0's to the end of it while maintaining the relative order of the non-zero elements.\n",
    "\n",
    "**Note** that you must do this in-place without making a copy of the array.\n",
    "\n",
    "**Solution**:remove non-zero to front"
   ]
  },
  {
   "cell_type": "code",
   "execution_count": null,
   "id": "24e1b159",
   "metadata": {},
   "outputs": [],
   "source": [
    "%%java\n",
    "class Solution {\n",
    "    public void moveZeroes(int[] nums) {\n",
    "        int start =0,temp;\n",
    "        for(int i=0;i<nums.length;i++){\n",
    "            if(nums[i]!=0){\n",
    "                if(start!=i){\n",
    "                    temp =nums[start];\n",
    "                    nums[start]=nums[i];\n",
    "                    nums[i]=temp;\n",
    "                }\n",
    "                start++;\n",
    "            }\n",
    "        }\n",
    "        \n",
    "    }\n",
    "}"
   ]
  },
  {
   "cell_type": "code",
   "execution_count": null,
   "id": "dfec7aa7",
   "metadata": {},
   "outputs": [],
   "source": [
    "%%python\n",
    "class Solution:\n",
    "    def moveZeroes(self, nums: List[int]) -> None:\n",
    "        nums.sort(key =lambda x : x==0);"
   ]
  }
 ],
 "metadata": {
  "kernelspec": {
   "display_name": "Python 3 (ipykernel)",
   "language": "python",
   "name": "python3"
  },
  "language_info": {
   "codemirror_mode": {
    "name": "ipython",
    "version": 3
   },
   "file_extension": ".py",
   "mimetype": "text/x-python",
   "name": "python",
   "nbconvert_exporter": "python",
   "pygments_lexer": "ipython3",
   "version": "3.9.7"
  }
 },
 "nbformat": 4,
 "nbformat_minor": 5
}
