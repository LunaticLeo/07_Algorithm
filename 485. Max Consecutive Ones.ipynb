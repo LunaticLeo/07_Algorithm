{
 "cells": [
  {
   "cell_type": "markdown",
   "id": "37b8a174",
   "metadata": {},
   "source": [
    "# <center>485. Max Consecutive Ones</center>"
   ]
  },
  {
   "cell_type": "markdown",
   "id": "447cf3fc",
   "metadata": {},
   "source": [
    "Given a binary array nums, return the maximum number of consecutive 1's in the array."
   ]
  },
  {
   "cell_type": "markdown",
   "id": "dda93bcf",
   "metadata": {},
   "source": [
    "**Example 1:**\n",
    "```\n",
    "Input: nums = [1,1,0,1,1,1]\n",
    "Output: 3\n",
    "Explanation: The first two digits or the last three digits are consecutive 1s. The maximum number of consecutive 1s is 3.\n",
    "```"
   ]
  },
  {
   "cell_type": "markdown",
   "id": "12b7b386",
   "metadata": {},
   "source": [
    "**Example 2:**\n",
    "```\n",
    "Input: nums = [1,0,1,1,0,1]\n",
    "Output: 2\n",
    "```"
   ]
  },
  {
   "cell_type": "markdown",
   "id": "95167eac",
   "metadata": {},
   "source": [
    "**Constraints:**\n",
    "```\n",
    "1 <= nums.length <= 105\n",
    "nums[i] is either 0 or 1.\n",
    "```"
   ]
  },
  {
   "cell_type": "code",
   "execution_count": null,
   "id": "b9ed3d70",
   "metadata": {},
   "outputs": [],
   "source": [
    "%% java\n",
    "class Solution {\n",
    "    public int findMaxConsecutiveOnes(int[] nums) {\n",
    "        int max = 0, current = 0;\n",
    "        for (int i = 0; i < nums.length; i++) {\n",
    "            if (nums[i] == 1) {\n",
    "                current++;\n",
    "                max = Math.max(max, current);\n",
    "            } else {\n",
    "                current = 0;\n",
    "            }\n",
    "        }\n",
    "        return max;\n",
    "    }\n",
    "}"
   ]
  },
  {
   "cell_type": "code",
   "execution_count": null,
   "id": "bfb527a9",
   "metadata": {},
   "outputs": [],
   "source": [
    "%% python\n",
    "class Solution:\n",
    "    def findMaxConsecutiveOnes(self, nums: List[int]) -> int:\n",
    "        return max([len(block) for block in \"\".join([str(s) for s in nums]).split(\"0\")])"
   ]
  }
 ],
 "metadata": {
  "kernelspec": {
   "display_name": "Python 3 (ipykernel)",
   "language": "python",
   "name": "python3"
  },
  "language_info": {
   "codemirror_mode": {
    "name": "ipython",
    "version": 3
   },
   "file_extension": ".py",
   "mimetype": "text/x-python",
   "name": "python",
   "nbconvert_exporter": "python",
   "pygments_lexer": "ipython3",
   "version": "3.9.7"
  }
 },
 "nbformat": 4,
 "nbformat_minor": 5
}
