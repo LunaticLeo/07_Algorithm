{
 "cells": [
  {
   "cell_type": "markdown",
   "id": "eb665631",
   "metadata": {},
   "source": [
    "# <center> 27 Remove Element</center>"
   ]
  },
  {
   "cell_type": "markdown",
   "id": "43fa82b5",
   "metadata": {},
   "source": [
    "<div class=\"content__u3I1 question-content__JfgR\">\n",
    "\n",
    "<div>\n",
    "\n",
    "Given an integer array `nums` and an integer `val`, remove all occurrences of `val` in `nums` [**in-place**](https://en.wikipedia.org/wiki/In-place_algorithm). The relative order of the elements may be changed.\n",
    "\n",
    "Since it is impossible to change the length of the array in some languages, you must instead have the result be placed in the **first part** of the array `nums`. More formally, if there are `k` elements after removing the duplicates, then the first `k` elements of `nums` should hold the final result. It does not matter what you leave beyond the first `k` elements.\n",
    "\n",
    "Return `k` _after placing the final result in the first_ `k` _slots of_ `nums`.\n",
    "\n",
    "Do **not** allocate extra space for another array. You must do this by **modifying the input array [in-place](https://en.wikipedia.org/wiki/In-place_algorithm)** with O(1) extra memory.\n",
    "\n",
    "**Custom Judge:**\n",
    "\n",
    "The judge will test your solution with the following code:\n",
    "\n",
    "<pre>int[] nums = [...]; // Input array\n",
    "int val = ...; // Value to remove\n",
    "int[] expectedNums = [...]; // The expected answer with correct length.\n",
    "                            // It is sorted with no values equaling val.\n",
    "\n",
    "int k = removeElement(nums, val); // Calls your implementation\n",
    "\n",
    "assert k == expectedNums.length;\n",
    "sort(nums, 0, k); // Sort the first k elements of nums\n",
    "for (int i = 0; i < actualLength; i++) {\n",
    "    assert nums[i] == expectedNums[i];\n",
    "}\n",
    "</pre>\n",
    "\n",
    "If all assertions pass, then your solution will be **accepted**.\n",
    "\n",
    "**Example 1:**\n",
    "\n",
    "<pre>**Input:** nums = [3,2,2,3], val = 3\n",
    "**Output:** 2, nums = [2,2,_,_]\n",
    "**Explanation:** Your function should return k = 2, with the first two elements of nums being 2.\n",
    "It does not matter what you leave beyond the returned k (hence they are underscores).\n",
    "</pre>\n",
    "\n",
    "**Example 2:**\n",
    "\n",
    "<pre>**Input:** nums = [0,1,2,2,3,0,4,2], val = 2\n",
    "**Output:** 5, nums = [0,1,4,0,3,_,_,_]\n",
    "**Explanation:** Your function should return k = 5, with the first five elements of nums containing 0, 0, 1, 3, and 4.\n",
    "Note that the five elements can be returned in any order.\n",
    "It does not matter what you leave beyond the returned k (hence they are underscores).\n",
    "</pre>\n",
    "\n",
    "**Constraints:**\n",
    "\n",
    "*   `0 <= nums.length <= 100`\n",
    "*   `0 <= nums[i] <= 50`\n",
    "*   `0 <= val <= 100`\n",
    "\n",
    "</div>\n",
    "\n",
    "</div>"
   ]
  },
  {
   "cell_type": "code",
   "execution_count": null,
   "id": "67c761ad",
   "metadata": {},
   "outputs": [],
   "source": [
    "%%java\n",
    "// length == 0\n",
    "// notice nums[i] maybe val or not val\n",
    "// non-val element are not ask to be in same order\n",
    "class Solution {\n",
    "    public int removeElement(int[] nums, int val) {\n",
    "        if(nums.length==0) return 0;\n",
    "        \n",
    "        int i=0, point =nums.length-1;\n",
    "        while(i<=point){\n",
    "            if(nums[i]==val){\n",
    "                int temp = nums[i];\n",
    "                nums[i]=nums[point];\n",
    "                nums[point]=temp;\n",
    "                point--;\n",
    "            }else\n",
    "                i++;\n",
    "        }\n",
    "        return i;\n",
    "    }\n",
    "}"
   ]
  }
 ],
 "metadata": {
  "kernelspec": {
   "display_name": "Python 3 (ipykernel)",
   "language": "python",
   "name": "python3"
  },
  "language_info": {
   "codemirror_mode": {
    "name": "ipython",
    "version": 3
   },
   "file_extension": ".py",
   "mimetype": "text/x-python",
   "name": "python",
   "nbconvert_exporter": "python",
   "pygments_lexer": "ipython3",
   "version": "3.9.7"
  }
 },
 "nbformat": 4,
 "nbformat_minor": 5
}
