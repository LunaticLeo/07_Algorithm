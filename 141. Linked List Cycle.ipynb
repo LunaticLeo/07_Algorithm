{
 "cells": [
  {
   "cell_type": "markdown",
   "id": "eb69d56c",
   "metadata": {},
   "source": [
    "# <center>141. Linked List Cycle</center>"
   ]
  },
  {
   "cell_type": "markdown",
   "id": "7e051f04",
   "metadata": {},
   "source": [
    "Given `head`, the head of a linked list, determine if the linked list has a cycle in it.\n",
    "\n",
    "There is a cycle in a linked list if there is some node in the list that can be reached again by continuously following the `next` pointer. Internally, `pos` is used to denote the index of the node that tail's `next` pointer is connected to. **Note that `pos` is not passed as a parameter**.\n",
    "\n",
    "Return `true` _if there is a cycle in the linked list_. Otherwise, return `false`.\n",
    "\n",
    "**Example 1:**\n",
    "\n",
    "![](https://assets.leetcode.com/uploads/2018/12/07/circularlinkedlist.png)\n",
    "\n",
    "**Input:** head = \\[3,2,0,-4\\], pos = 1\n",
    "**Output:** true\n",
    "**Explanation:** There is a cycle in the linked list, where the tail connects to the 1st node (0-indexed).\n",
    "\n",
    "**Example 2:**\n",
    "\n",
    "![](https://assets.leetcode.com/uploads/2018/12/07/circularlinkedlist_test2.png)\n",
    "\n",
    "**Input:** head = \\[1,2\\], pos = 0\n",
    "**Output:** true\n",
    "**Explanation:** There is a cycle in the linked list, where the tail connects to the 0th node.\n",
    "\n",
    "**Example 3:**\n",
    "\n",
    "![](https://assets.leetcode.com/uploads/2018/12/07/circularlinkedlist_test3.png)\n",
    "\n",
    "**Input:** head = \\[1\\], pos = -1\n",
    "**Output:** false\n",
    "**Explanation:** There is no cycle in the linked list.\n",
    "\n",
    "**Constraints:**\n",
    "\n",
    "*   The number of the nodes in the list is in the range `[0, 104]`.\n",
    "*   `-105 <= Node.val <= 105`\n",
    "*   `pos` is `-1` or a **valid index** in the linked-list.\n",
    "\n",
    "**Follow up:** Can you solve it using `O(1)` (i.e. constant) memory?"
   ]
  },
  {
   "cell_type": "markdown",
   "id": "98d6fec9-a1a7-4a21-a653-6cbc0d011dab",
   "metadata": {},
   "source": [
    "Notice:\n",
    "- Head maybe null"
   ]
  },
  {
   "cell_type": "markdown",
   "id": "ed51bfb0",
   "metadata": {},
   "source": [
    "## Solution: Set"
   ]
  },
  {
   "cell_type": "markdown",
   "id": "b74ae6b2-6ea2-4bb8-8e64-74efd7aa6e85",
   "metadata": {},
   "source": [
    "use set to check contains"
   ]
  },
  {
   "cell_type": "code",
   "execution_count": null,
   "id": "2774c963",
   "metadata": {},
   "outputs": [],
   "source": [
    "%java\n",
    "// time: 4ms, 20.78%\n",
    "// memory: 42.7MB, 98.60%\n",
    "\n",
    "/**\n",
    " * Definition for singly-linked list.\n",
    " * class ListNode {\n",
    " *     int val;\n",
    " *     ListNode next;\n",
    " *     ListNode(int x) {\n",
    " *         val = x;\n",
    " *         next = null;\n",
    " *     }\n",
    " * }\n",
    " */\n",
    "\n",
    "public class Solution {\n",
    "    public boolean hasCycle(ListNode head) {\n",
    "        HashSet<ListNode> nset = new HashSet<ListNode>();\n",
    "\n",
    "        while(head != null){\n",
    "            nset.add(head);\n",
    "\n",
    "            head = head.next;\n",
    "            if(nset.contains(head)) return true;\n",
    "        };\n",
    "        return false;\n",
    "    }\n",
    "}"
   ]
  },
  {
   "cell_type": "code",
   "execution_count": null,
   "id": "8ef1514b",
   "metadata": {},
   "outputs": [],
   "source": [
    "%python\n",
    "# time: 51 ms, 91.82%\n",
    "# memory: 18 MB, 8.94%\n",
    "\n",
    "# Definition for singly-linked list.\n",
    "# class ListNode:\n",
    "#     def __init__(self, x):\n",
    "#         self.val = x\n",
    "#         self.next = None\n",
    "\n",
    "class Solution:\n",
    "    def hasCycle(self, head: Optional[ListNode]) -> bool:\n",
    "        nset = set()\n",
    "        while(head != None):\n",
    "            nset.add(head)\n",
    "\n",
    "            head = head.next\n",
    "            if(head in nset):\n",
    "                return True\n",
    "\n",
    "        return False"
   ]
  },
  {
   "cell_type": "markdown",
   "id": "a729acdd-4f44-48fa-acb9-42fb35a1bbe3",
   "metadata": {},
   "source": [
    "## Solution: two pointers"
   ]
  },
  {
   "cell_type": "markdown",
   "id": "85609f33-b299-4fab-84e2-0e9afda28d39",
   "metadata": {},
   "source": [
    "use two pointers to find circle. one is slower(one step), the other one is faster(two step).  \n",
    "the worest time conplexity is O(N + K), N is the lenght of non-circle, K is the length of faster pointer ahead of slower pointer, which can be considered as O(n)"
   ]
  },
  {
   "cell_type": "code",
   "execution_count": null,
   "id": "7979ce3d-5a92-4d9f-8337-28f7bcfa8603",
   "metadata": {},
   "outputs": [],
   "source": [
    "%java\n",
    "// time: 0ms, 100%\n",
    "// memory: 43.1MB, 93.4%\n",
    "\n",
    "/**\n",
    " * Definition for singly-linked list.\n",
    " * class ListNode {\n",
    " *     int val;\n",
    " *     ListNode next;\n",
    " *     ListNode(int x) {\n",
    " *         val = x;\n",
    " *         next = null;\n",
    " *     }\n",
    " * }\n",
    " */\n",
    "\n",
    "public class Solution {\n",
    "    public boolean hasCycle(ListNode head) {\n",
    "        ListNode a = head, b = head;\n",
    "\n",
    "        while(a != null && b != null){\n",
    "            a = a.next;\n",
    "            if(b.next != null && b.next.next != null)\n",
    "                b = b.next.next;\n",
    "            else\n",
    "                return false;\n",
    "                \n",
    "            if(a == b) return true;\n",
    "            \n",
    "        }\n",
    "\n",
    "        return false;\n",
    "    }\n",
    "}"
   ]
  },
  {
   "cell_type": "code",
   "execution_count": null,
   "id": "4c566f94-ed9f-4433-ab4e-5d375f192cb6",
   "metadata": {},
   "outputs": [],
   "source": [
    "%python\n",
    "# time: 50 ms, 93.75%\n",
    "# memory: 17.4 MB, 97.49%\n",
    "\n",
    "# Definition for singly-linked list.\n",
    "# class ListNode:\n",
    "#     def __init__(self, x):\n",
    "#         self.val = x\n",
    "#         self.next = None\n",
    "\n",
    "class Solution:\n",
    "    def hasCycle(self, head: Optional[ListNode]) -> bool:\n",
    "        if(head == None): \n",
    "            return False\n",
    "        \n",
    "        slow = head\n",
    "        fast = head.next\n",
    "\n",
    "        while(fast != None and fast.next != None):\n",
    "            slow = slow.next\n",
    "            fast = fast.next.next\n",
    "\n",
    "            if(slow == fast):\n",
    "                return True\n",
    "        \n",
    "        return False"
   ]
  }
 ],
 "metadata": {
  "kernelspec": {
   "display_name": "Python 3 (ipykernel)",
   "language": "python",
   "name": "python3"
  },
  "language_info": {
   "codemirror_mode": {
    "name": "ipython",
    "version": 3
   },
   "file_extension": ".py",
   "mimetype": "text/x-python",
   "name": "python",
   "nbconvert_exporter": "python",
   "pygments_lexer": "ipython3",
   "version": "3.9.7"
  }
 },
 "nbformat": 4,
 "nbformat_minor": 5
}
