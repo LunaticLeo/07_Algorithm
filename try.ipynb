{
 "cells": [
  {
   "cell_type": "code",
   "execution_count": 68,
   "id": "b3a8b503",
   "metadata": {},
   "outputs": [
    {
     "data": {
      "text/plain": [
       "[0, 0, 12, 1, 3]"
      ]
     },
     "execution_count": 68,
     "metadata": {},
     "output_type": "execute_result"
    }
   ],
   "source": [
    "a = [0,1,0,3,12]\n",
    "a.sort(key= lambda x : x%2==1)\n",
    "a"
   ]
  },
  {
   "cell_type": "raw",
   "id": "a29c4463",
   "metadata": {},
   "source": [
    "class aa:\n",
    "    def __init__(self):\n",
    "        self.a =0\n",
    "    def show(self):\n",
    "        self.b=1\n",
    "    def show2(self):\n",
    "        print(self.b)\n"
   ]
  },
  {
   "cell_type": "code",
   "execution_count": 1,
   "id": "27c5d369",
   "metadata": {},
   "outputs": [
    {
     "name": "stdout",
     "output_type": "stream",
     "text": [
      "0\n"
     ]
    }
   ],
   "source": [
    "\n",
    "a = 2\n",
    "a -=2\n",
    "print(a)"
   ]
  },
  {
   "cell_type": "code",
   "execution_count": 10,
   "id": "dbb41e57",
   "metadata": {},
   "outputs": [
    {
     "name": "stdout",
     "output_type": "stream",
     "text": [
      "[1, 3, 5, 12, 432, 34, 23, 422, 423, 52323]\n",
      "[0, 1, 5, 12, 3, 34, 23, 422, 423, 52323, 432]\n",
      "[0, -1, -5, -12, -3, -34, -23, -422, -423, -52323, -432]\n",
      "[0, 1, 5, 12, 3, 34, 23, 422, 423, 52323, 432]\n"
     ]
    }
   ],
   "source": [
    "import heapq\n",
    "\n",
    "list1 = [432,422,34,12,3,5,23,1,423,52323]\n",
    "heapq.heapify(list1)\n",
    "print(list1)\n",
    "heapq.heappush(list1,0)\n",
    "print(list1)\n",
    "print([-1* x for x in list1])\n",
    "print(list1)"
   ]
  }
 ],
 "metadata": {
  "kernelspec": {
   "display_name": "Python 3 (ipykernel)",
   "language": "python",
   "name": "python3"
  },
  "language_info": {
   "codemirror_mode": {
    "name": "ipython",
    "version": 3
   },
   "file_extension": ".py",
   "mimetype": "text/x-python",
   "name": "python",
   "nbconvert_exporter": "python",
   "pygments_lexer": "ipython3",
   "version": "3.9.7"
  }
 },
 "nbformat": 4,
 "nbformat_minor": 5
}
