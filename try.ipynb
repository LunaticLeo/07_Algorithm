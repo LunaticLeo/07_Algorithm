{
 "cells": [
  {
   "cell_type": "code",
   "execution_count": 68,
   "id": "b3a8b503",
   "metadata": {},
   "outputs": [
    {
     "data": {
      "text/plain": [
       "[0, 0, 12, 1, 3]"
      ]
     },
     "execution_count": 68,
     "metadata": {},
     "output_type": "execute_result"
    }
   ],
   "source": [
    "a = [0,1,0,3,12]\n",
    "a.sort(key= lambda x : x%2==1)\n",
    "a"
   ]
  },
  {
   "cell_type": "raw",
   "id": "a29c4463",
   "metadata": {},
   "source": [
    "class aa:\n",
    "    def __init__(self):\n",
    "        self.a =0\n",
    "    def show(self):\n",
    "        self.b=1\n",
    "    def show2(self):\n",
    "        print(self.b)\n"
   ]
  },
  {
   "cell_type": "code",
   "execution_count": 2,
   "id": "27c5d369",
   "metadata": {},
   "outputs": [
    {
     "name": "stdout",
     "output_type": "stream",
     "text": [
      "0\n"
     ]
    }
   ],
   "source": [
    "\n",
    "a = 2\n",
    "a -=2\n",
    "print(a)"
   ]
  }
 ],
 "metadata": {
  "kernelspec": {
   "display_name": "Python 3 (ipykernel)",
   "language": "python",
   "name": "python3"
  },
  "language_info": {
   "codemirror_mode": {
    "name": "ipython",
    "version": 3
   },
   "file_extension": ".py",
   "mimetype": "text/x-python",
   "name": "python",
   "nbconvert_exporter": "python",
   "pygments_lexer": "ipython3",
   "version": "3.9.7"
  }
 },
 "nbformat": 4,
 "nbformat_minor": 5
}
