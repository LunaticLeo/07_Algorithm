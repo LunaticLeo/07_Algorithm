{
 "cells": [
  {
   "cell_type": "markdown",
   "id": "eb69d56c",
   "metadata": {},
   "source": [
    "# <center>1011. Capacity To Ship Packages Within D Days\n",
    "</center>"
   ]
  },
  {
   "cell_type": "markdown",
   "id": "7e051f04",
   "metadata": {},
   "source": [
    "<div class=\"_1l1MA\" data-track-load=\"description_content\"><p>A conveyor belt has packages that must be shipped from one port to another within <code>days</code> days.</p>\n",
    "\n",
    "<p>The <code>i<sup>th</sup></code> package on the conveyor belt has a weight of <code>weights[i]</code>. Each day, we load the ship with packages on the conveyor belt (in the order given by <code>weights</code>). We may not load more weight than the maximum weight capacity of the ship.</p>\n",
    "\n",
    "<p>Return the least weight capacity of the ship that will result in all the packages on the conveyor belt being shipped within <code>days</code> days.</p>\n",
    "\n",
    "<p>&nbsp;</p>\n",
    "<p><strong class=\"example\">Example 1:</strong></p>\n",
    "\n",
    "<pre><strong>Input:</strong> weights = [1,2,3,4,5,6,7,8,9,10], days = 5\n",
    "<strong>Output:</strong> 15\n",
    "<strong>Explanation:</strong> A ship capacity of 15 is the minimum to ship all the packages in 5 days like this:\n",
    "1st day: 1, 2, 3, 4, 5\n",
    "2nd day: 6, 7\n",
    "3rd day: 8\n",
    "4th day: 9\n",
    "5th day: 10\n",
    "\n",
    "Note that the cargo must be shipped in the order given, so using a ship of capacity 14 and splitting the packages into parts like (2, 3, 4, 5), (1, 6, 7), (8), (9), (10) is not allowed.\n",
    "</pre>\n",
    "\n",
    "<p><strong class=\"example\">Example 2:</strong></p>\n",
    "\n",
    "<pre><strong>Input:</strong> weights = [3,2,2,4,1,4], days = 3\n",
    "<strong>Output:</strong> 6\n",
    "<strong>Explanation:</strong> A ship capacity of 6 is the minimum to ship all the packages in 3 days like this:\n",
    "1st day: 3, 2\n",
    "2nd day: 2, 4\n",
    "3rd day: 1, 4\n",
    "</pre>\n",
    "\n",
    "<p><strong class=\"example\">Example 3:</strong></p>\n",
    "\n",
    "<pre><strong>Input:</strong> weights = [1,2,3,1,1], days = 4\n",
    "<strong>Output:</strong> 3\n",
    "<strong>Explanation:</strong>\n",
    "1st day: 1\n",
    "2nd day: 2\n",
    "3rd day: 3\n",
    "4th day: 1, 1\n",
    "</pre>\n",
    "\n",
    "<p>&nbsp;</p>\n",
    "<p><strong>Constraints:</strong></p>\n",
    "\n",
    "<ul>\n",
    "\t<li><code>1 &lt;= days &lt;= weights.length &lt;= 5 * 10<sup>4</sup></code></li>\n",
    "\t<li><code>1 &lt;= weights[i] &lt;= 500</code></li>\n",
    "</ul>\n",
    "</div>"
   ]
  },
  {
   "cell_type": "markdown",
   "id": "a88d52cf-95ca-4eb4-ab8d-110ca6b40887",
   "metadata": {},
   "source": [
    "Notice:\n",
    "- "
   ]
  },
  {
   "cell_type": "markdown",
   "id": "ed51bfb0",
   "metadata": {},
   "source": [
    "## Solution: Brute Force"
   ]
  },
  {
   "cell_type": "markdown",
   "id": "b74ae6b2-6ea2-4bb8-8e64-74efd7aa6e85",
   "metadata": {},
   "source": [
    "Create new method to get estimate day for specific capacity **LTE**"
   ]
  },
  {
   "cell_type": "code",
   "execution_count": null,
   "id": "2774c963",
   "metadata": {},
   "outputs": [],
   "source": [
    "%java\n",
    "// time: ms, %\n",
    "// memory: MB, %\n",
    "class Solution {\n",
    "    public int shipWithinDays(int[] weights, int days) {\n",
    "        int max = Arrays.stream(weights).max().getAsInt();\n",
    "        int day = 0;\n",
    "        do{\n",
    "            day = estimateDays(weights, max);\n",
    "            max++;\n",
    "        }while(day > days);\n",
    "        return max-1;\n",
    "    }\n",
    "\n",
    "    public int estimateDays(int[] weights, int capacity){\n",
    "        int day = 0, cur = 0;\n",
    "        for(int w : weights){\n",
    "            cur += w;\n",
    "            if(cur> capacity){\n",
    "                cur = w;\n",
    "                day++;\n",
    "            }\n",
    "        }\n",
    "        return day + 1;\n",
    "    }\n",
    "}"
   ]
  },
  {
   "cell_type": "code",
   "execution_count": null,
   "id": "8ef1514b",
   "metadata": {},
   "outputs": [],
   "source": [
    "%python\n",
    "# time: ms, %\n",
    "# memory: MB, %"
   ]
  },
  {
   "cell_type": "markdown",
   "id": "5aa54df9-20a6-440a-bdf2-5e497286a95a",
   "metadata": {},
   "source": [
    "## Solution: Binary Search (二分法)"
   ]
  },
  {
   "cell_type": "markdown",
   "id": "d7c1e6ca-b908-44bf-b1c6-c69d2e663e92",
   "metadata": {},
   "source": [
    "Find the biggest weight of single package **a** and the sum of all packages **b**, then check the mid of **a** and **b**, loop until **a=b**, so this is the right capacity.  \n",
    " \n",
    "Time complexity: O(n*log(n))\n",
    "\n",
    "Space complexity: O(1）"
   ]
  },
  {
   "cell_type": "code",
   "execution_count": null,
   "id": "e3a0d1da-6dc5-4d3a-9664-bb7081da6c64",
   "metadata": {},
   "outputs": [],
   "source": [
    "%java\n",
    "// time: 10ms,93.52%\n",
    "// memory: 45.3MB, 45.44%\n",
    "class Solution {\n",
    "    public int shipWithinDays(int[] weights, int days) {\n",
    "        int max = Arrays.stream(weights).max().getAsInt();\n",
    "        int day = 0;\n",
    "        do{\n",
    "            day = estimateDays(weights, max);\n",
    "            max++;\n",
    "        }while(day > days);\n",
    "        return max-1;\n",
    "    }\n",
    "\n",
    "    public int estimateDays(int[] weights, int capacity){\n",
    "        int day = 0, cur = 0;\n",
    "        for(int w : weights){\n",
    "            cur += w;\n",
    "            if(cur> capacity){\n",
    "                cur = w;\n",
    "                day++;\n",
    "            }\n",
    "        }\n",
    "        return day + 1;\n",
    "    }\n",
    "}"
   ]
  },
  {
   "cell_type": "markdown",
   "id": "a12119ad-5307-451a-a78b-b9f6ed36fac9",
   "metadata": {},
   "source": [
    "This code is much more faster is because it use the idea of average. Max of the higghest weight package and average weight of package as **a**.\n",
    "\n",
    "And the average daily ship package multi the higghest weight package, which is much more less than sum of all packages.\n",
    "\n",
    "So that [a,b] will be much easier than the regular method"
   ]
  },
  {
   "cell_type": "code",
   "execution_count": null,
   "id": "c0c54b83-d804-4694-982e-0f5b43c61630",
   "metadata": {},
   "outputs": [],
   "source": [
    "%java\n",
    "// time: 6ms, 100%\n",
    "// memory: 44.91MB, 88.69%\n",
    "class Solution {\n",
    "    public int shipWithinDays(int[] weights, int days) {\n",
    "        int lo = -1, hi = -1, sum = 0;\n",
    "        for (int w : weights){\n",
    "            sum += w;\n",
    "            lo = Math.max(lo, w);\n",
    "        }\n",
    "        hi = lo * (weights.length / days + Integer.signum(weights.length % days));\n",
    "        lo = Math.max(lo, sum / days);\n",
    "        while(lo < hi){ \n",
    "            int mid = lo + (hi - lo) / 2;\n",
    "            if (isOK(mid, weights, days)) hi = mid;\n",
    "            else lo = mid + 1;\n",
    "        }\n",
    "        return lo;\n",
    "    }\n",
    "    private boolean isOK(int guess, int[] arr, int d){ \n",
    "        int sum = 0;\n",
    "        for (int n : arr){\n",
    "            if (sum + n > guess){\n",
    "                sum = 0;\n",
    "                d--;\n",
    "            }\n",
    "            sum += n;\n",
    "        }\n",
    "        return d > 0;\n",
    "    }\n",
    "}"
   ]
  }
 ],
 "metadata": {
  "kernelspec": {
   "display_name": "Python 3 (ipykernel)",
   "language": "python",
   "name": "python3"
  },
  "language_info": {
   "codemirror_mode": {
    "name": "ipython",
    "version": 3
   },
   "file_extension": ".py",
   "mimetype": "text/x-python",
   "name": "python",
   "nbconvert_exporter": "python",
   "pygments_lexer": "ipython3",
   "version": "3.9.7"
  },
  "toc-autonumbering": false
 },
 "nbformat": 4,
 "nbformat_minor": 5
}
