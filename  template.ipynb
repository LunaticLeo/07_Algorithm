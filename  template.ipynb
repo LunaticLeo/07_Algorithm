{
 "cells": [
  {
   "cell_type": "markdown",
   "id": "eb69d56c",
   "metadata": {},
   "source": [
    "# <center></center>"
   ]
  },
  {
   "cell_type": "markdown",
   "id": "7e051f04",
   "metadata": {},
   "source": []
  },
  {
   "cell_type": "markdown",
   "id": "a88d52cf-95ca-4eb4-ab8d-110ca6b40887",
   "metadata": {},
   "source": [
    "Notice:\n",
    "- "
   ]
  },
  {
   "cell_type": "markdown",
   "id": "ed51bfb0",
   "metadata": {},
   "source": [
    "## Solution: "
   ]
  },
  {
   "cell_type": "markdown",
   "id": "b74ae6b2-6ea2-4bb8-8e64-74efd7aa6e85",
   "metadata": {},
   "source": [
    "Time complexity:   \n",
    "\n",
    "Space complexity:"
   ]
  },
  {
   "cell_type": "code",
   "execution_count": null,
   "id": "2774c963",
   "metadata": {},
   "outputs": [],
   "source": [
    "%java\n",
    "// time: ms, %\n",
    "// memory: MB, %"
   ]
  },
  {
   "cell_type": "code",
   "execution_count": null,
   "id": "8ef1514b",
   "metadata": {},
   "outputs": [],
   "source": [
    "%python\n",
    "# time: ms, %\n",
    "# memory: MB, %"
   ]
  }
 ],
 "metadata": {
  "kernelspec": {
   "display_name": "Python 3 (ipykernel)",
   "language": "python",
   "name": "python3"
  },
  "language_info": {
   "codemirror_mode": {
    "name": "ipython",
    "version": 3
   },
   "file_extension": ".py",
   "mimetype": "text/x-python",
   "name": "python",
   "nbconvert_exporter": "python",
   "pygments_lexer": "ipython3",
   "version": "3.9.7"
  }
 },
 "nbformat": 4,
 "nbformat_minor": 5
}
