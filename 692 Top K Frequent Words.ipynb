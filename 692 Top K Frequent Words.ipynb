{
 "cells": [
  {
   "cell_type": "markdown",
   "id": "eb69d56c",
   "metadata": {},
   "source": [
    "# <center>692 Top K Frequent Words</center>"
   ]
  },
  {
   "cell_type": "markdown",
   "id": "7e051f04",
   "metadata": {},
   "source": [
    "<div>\n",
    "\n",
    "Given an array of strings `words` and an integer `k`, return _the_ `k` _most frequent strings_.\n",
    "\n",
    "Return the answer **sorted** by **the frequency** from highest to lowest. Sort the words with the same frequency by their **lexicographical order**.\n",
    "\n",
    "**Example 1:**\n",
    "\n",
    "<pre>**Input:** words = [\"i\",\"love\",\"leetcode\",\"i\",\"love\",\"coding\"], k = 2\n",
    "**Output:** [\"i\",\"love\"]\n",
    "**Explanation:** \"i\" and \"love\" are the two most frequent words.\n",
    "Note that \"i\" comes before \"love\" due to a lower alphabetical order.\n",
    "</pre>\n",
    "\n",
    "**Example 2:**\n",
    "\n",
    "<pre>**Input:** words = [\"the\",\"day\",\"is\",\"sunny\",\"the\",\"the\",\"the\",\"sunny\",\"is\",\"is\"], k = 4\n",
    "**Output:** [\"the\",\"is\",\"sunny\",\"day\"]\n",
    "**Explanation:** \"the\", \"is\", \"sunny\" and \"day\" are the four most frequent words, with the number of occurrence being 4, 3, 2 and 1 respectively.\n",
    "</pre>\n",
    "\n",
    "**Constraints:**\n",
    "\n",
    "*   `1 <= words.length <= 500`\n",
    "*   `1 <= words[i].length <= 10`\n",
    "*   `words[i]` consists of lowercase English letters.\n",
    "*   `k` is in the range `[1, The number of **unique** words[i]]`\n",
    "\n",
    "**Follow-up:** Could you solve it in `O(n log(k))` time and `O(n)` extra space?\n",
    "\n",
    "</div>"
   ]
  },
  {
   "cell_type": "markdown",
   "id": "ed51bfb0",
   "metadata": {},
   "source": [
    "## Solution: Brute Force"
   ]
  },
  {
   "cell_type": "code",
   "execution_count": null,
   "id": "2774c963",
   "metadata": {},
   "outputs": [],
   "source": [
    "%%java\n",
    "// hashmap brute force\n",
    "// 15 ms, 15.73%\n",
    "// 45.9 MB,  7.52%\n",
    "class Solution {\n",
    "    public List<String> topKFrequent(String[] words, int k) {\n",
    "        Map<String, Integer> cnt = new HashMap<>();\n",
    "        for (String word : words) {\n",
    "            cnt.put(word, cnt.getOrDefault(word, 0) + 1);\n",
    "        }\n",
    "        List<String> candidates = new ArrayList<>(cnt.keySet());\n",
    "        Collections.sort(candidates,\n",
    "                (w1, w2) -> cnt.get(w1).equals(cnt.get(w2)) ? w1.compareTo(w2) : cnt.get(w2) - cnt.get(w1));\n",
    "        return candidates.subList(0, k);\n",
    "    }\n",
    "}"
   ]
  },
  {
   "cell_type": "code",
   "execution_count": null,
   "id": "8ef1514b",
   "metadata": {},
   "outputs": [],
   "source": [
    "%%python\n",
    "\n",
    "from collections import Counter\n",
    "\n",
    "\n",
    "class Solution:\n",
    "    def topKFrequent(self, words: List[str], k: int) -> List[str]:\n",
    "        cnt = Counter(words)\n",
    "        return sorted(list(cnt.keys()), key=lambda x: (-cnt[x], x))[:k]"
   ]
  },
  {
   "cell_type": "markdown",
   "id": "e9e58f97-edff-4c9c-bad1-7728390f1c1c",
   "metadata": {},
   "source": [
    "## Solution: Max Heap"
   ]
  },
  {
   "cell_type": "code",
   "execution_count": null,
   "id": "2748c2d7-af65-4601-8d28-f86183c0b40b",
   "metadata": {},
   "outputs": [],
   "source": [
    "%%java\n",
    "// hashmap brute force, and then use heap(priorityqueue)\n",
    "// the key is to implements the comparable\n",
    "// 10 ms, faster than 61.00%\n",
    "// 45.4 MB, less than 43.95%\n",
    "\n",
    "class Solution {\n",
    "    class Word implements Comparable<Word> {\n",
    "        private String word;\n",
    "        private int count;\n",
    "\n",
    "        public Word(String word, int count) {\n",
    "            this.word = word;\n",
    "            this.count = count;\n",
    "        }\n",
    "\n",
    "        public int compareTo(Word other) {\n",
    "            if (this.count == other.count) {\n",
    "                return this.word.compareTo(other.word);\n",
    "            }\n",
    "            return other.count - this.count;\n",
    "        }\n",
    "    }\n",
    "\n",
    "    public List<String> topKFrequent(String[] words, int k) {\n",
    "        Map<String, Integer> cnt = new HashMap<>();\n",
    "        for (String word : words) {\n",
    "            cnt.put(word, cnt.getOrDefault(word, 0) + 1);\n",
    "        }\n",
    "\n",
    "        List<Word> candidates = new ArrayList<>();\n",
    "        for (var entry : cnt.entrySet()) {\n",
    "            candidates.add(new Word(entry.getKey(), entry.getValue()));\n",
    "        }\n",
    "\n",
    "        Queue<Word> h = new PriorityQueue<>(candidates);\n",
    "        List<String> res = new ArrayList<>();\n",
    "        for (int i = 0; i < k; i++) {\n",
    "            res.add(h.poll().word);\n",
    "        }\n",
    "        return res;\n",
    "\n",
    "    }\n",
    "}"
   ]
  },
  {
   "cell_type": "code",
   "execution_count": null,
   "id": "fc113354-af89-4514-b733-0ee5e965f711",
   "metadata": {},
   "outputs": [],
   "source": [
    "%%python\n",
    "\n",
    "from collections import Counter\n",
    "from heapq import nsmallest\n",
    "\n",
    "\n",
    "class Solution:\n",
    "    def topKFrequent(self, words: List[str], k: int) -> List[str]:\n",
    "        cnt = Counter(words)\n",
    "        return nsmallest(k, cnt.keys(), key=lambda x: (-cnt[x], x))"
   ]
  }
 ],
 "metadata": {
  "kernelspec": {
   "display_name": "Python 3 (ipykernel)",
   "language": "python",
   "name": "python3"
  },
  "language_info": {
   "codemirror_mode": {
    "name": "ipython",
    "version": 3
   },
   "file_extension": ".py",
   "mimetype": "text/x-python",
   "name": "python",
   "nbconvert_exporter": "python",
   "pygments_lexer": "ipython3",
   "version": "3.9.7"
  }
 },
 "nbformat": 4,
 "nbformat_minor": 5
}
