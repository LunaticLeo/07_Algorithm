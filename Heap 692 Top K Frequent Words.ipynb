{
 "cells": [
  {
   "cell_type": "markdown",
   "id": "eb69d56c",
   "metadata": {},
   "source": [
    "# <center>692 Top K Frequent Words</center>"
   ]
  },
  {
   "cell_type": "markdown",
   "id": "7e051f04",
   "metadata": {},
   "source": [
    "<div>\n",
    "\n",
    "Given an array of strings `words` and an integer `k`, return _the_ `k` _most frequent strings_.\n",
    "\n",
    "Return the answer **sorted** by **the frequency** from highest to lowest. Sort the words with the same frequency by their **lexicographical order**.\n",
    "\n",
    "**Example 1:**\n",
    "\n",
    "<pre>**Input:** words = [\"i\",\"love\",\"leetcode\",\"i\",\"love\",\"coding\"], k = 2\n",
    "**Output:** [\"i\",\"love\"]\n",
    "**Explanation:** \"i\" and \"love\" are the two most frequent words.\n",
    "Note that \"i\" comes before \"love\" due to a lower alphabetical order.\n",
    "</pre>\n",
    "\n",
    "**Example 2:**\n",
    "\n",
    "<pre>**Input:** words = [\"the\",\"day\",\"is\",\"sunny\",\"the\",\"the\",\"the\",\"sunny\",\"is\",\"is\"], k = 4\n",
    "**Output:** [\"the\",\"is\",\"sunny\",\"day\"]\n",
    "**Explanation:** \"the\", \"is\", \"sunny\" and \"day\" are the four most frequent words, with the number of occurrence being 4, 3, 2 and 1 respectively.\n",
    "</pre>\n",
    "\n",
    "**Constraints:**\n",
    "\n",
    "*   `1 <= words.length <= 500`\n",
    "*   `1 <= words[i].length <= 10`\n",
    "*   `words[i]` consists of lowercase English letters.\n",
    "*   `k` is in the range `[1, The number of **unique** words[i]]`\n",
    "\n",
    "**Follow-up:** Could you solve it in `O(n log(k))` time and `O(n)` extra space?\n",
    "\n",
    "</div>"
   ]
  },
  {
   "cell_type": "markdown",
   "id": "ed51bfb0",
   "metadata": {},
   "source": [
    "## Solution: "
   ]
  },
  {
   "cell_type": "code",
   "execution_count": 3,
   "id": "2774c963",
   "metadata": {},
   "outputs": [],
   "source": []
  },
  {
   "cell_type": "code",
   "execution_count": null,
   "id": "8ef1514b",
   "metadata": {},
   "outputs": [],
   "source": []
  }
 ],
 "metadata": {
  "kernelspec": {
   "display_name": "Python 3 (ipykernel)",
   "language": "python",
   "name": "python3"
  },
  "language_info": {
   "codemirror_mode": {
    "name": "ipython",
    "version": 3
   },
   "file_extension": ".py",
   "mimetype": "text/x-python",
   "name": "python",
   "nbconvert_exporter": "python",
   "pygments_lexer": "ipython3",
   "version": "3.9.7"
  }
 },
 "nbformat": 4,
 "nbformat_minor": 5
}
