{
 "cells": [
  {
   "cell_type": "markdown",
   "id": "eb69d56c",
   "metadata": {},
   "source": [
    "# <center>11. Container With Most Water</center>"
   ]
  },
  {
   "cell_type": "markdown",
   "id": "7e051f04",
   "metadata": {},
   "source": [
    "<div class=\"elfjS\" data-track-load=\"description_content\"><p>You are given an integer array <code>height</code> of length <code>n</code>. There are <code>n</code> vertical lines drawn such that the two endpoints of the <code>i<sup>th</sup></code> line are <code>(i, 0)</code> and <code>(i, height[i])</code>.</p>\n",
    "\n",
    "<p>Find two lines that together with the x-axis form a container, such that the container contains the most water.</p>\n",
    "\n",
    "<p>Return <em>the maximum amount of water a container can store</em>.</p>\n",
    "\n",
    "<p><strong>Notice</strong> that you may not slant the container.</p>\n",
    "\n",
    "<p>&nbsp;</p>\n",
    "<p><strong class=\"example\">Example 1:</strong></p>\n",
    "<img alt=\"\" src=\"https://s3-lc-upload.s3.amazonaws.com/uploads/2018/07/17/question_11.jpg\" style=\"width: 600px; height: 287px;\">\n",
    "<pre><strong>Input:</strong> height = [1,8,6,2,5,4,8,3,7]\n",
    "<strong>Output:</strong> 49\n",
    "<strong>Explanation:</strong> The above vertical lines are represented by array [1,8,6,2,5,4,8,3,7]. In this case, the max area of water (blue section) the container can contain is 49.\n",
    "</pre>\n",
    "\n",
    "<p><strong class=\"example\">Example 2:</strong></p>\n",
    "\n",
    "<pre><strong>Input:</strong> height = [1,1]\n",
    "<strong>Output:</strong> 1\n",
    "</pre>\n",
    "\n",
    "<p>&nbsp;</p>\n",
    "<p><strong>Constraints:</strong></p>\n",
    "\n",
    "<ul>\n",
    "\t<li><code>n == height.length</code></li>\n",
    "\t<li><code>2 &lt;= n &lt;= 10<sup>5</sup></code></li>\n",
    "\t<li><code>0 &lt;= height[i] &lt;= 10<sup>4</sup></code></li>\n",
    "</ul>\n",
    "</div>"
   ]
  },
  {
   "cell_type": "markdown",
   "id": "a88d52cf-95ca-4eb4-ab8d-110ca6b40887",
   "metadata": {},
   "source": [
    "Notice:\n",
    "- "
   ]
  },
  {
   "cell_type": "markdown",
   "id": "ed51bfb0",
   "metadata": {},
   "source": [
    "## Solution: Two Pointer Approach\n",
    "The aim of this problem is to find from max length of width. Due to the max length of width, the rest is to find longer lines than the init lines which is the first and last line."
   ]
  },
  {
   "cell_type": "markdown",
   "id": "b74ae6b2-6ea2-4bb8-8e64-74efd7aa6e85",
   "metadata": {},
   "source": [
    "Time complexity: O(n)\n",
    "\n",
    "Space complexity: O(1)"
   ]
  },
  {
   "cell_type": "code",
   "execution_count": null,
   "id": "2774c963",
   "metadata": {},
   "outputs": [],
   "source": [
    "%java\n",
    "// time: 4ms, 85.39%\n",
    "// memory: 55.42MB, 58.96%\n",
    "class Solution {\n",
    "    public int maxArea(int[] height) {\n",
    "        int max = 0, i = 0,j = height.length-1;\n",
    "        while(i<=j){\n",
    "            max = Math.max(max, Math.min(height[i],height[j])* (j-i));\n",
    "            if(height[i]<height[j]){\n",
    "                i++;\n",
    "            }else{\n",
    "                j--;\n",
    "            }\n",
    "        }\n",
    "        return max;\n",
    "    }\n",
    "}class Solution {\n",
    "    public int maxArea(int[] height) {\n",
    "        int max = 0, i = 0,j = height.length-1;\n",
    "        while(i<=j){\n",
    "            max = Math.max(max, Math.min(height[i],height[j])* (j-i));\n",
    "            if(height[i]<height[j]){\n",
    "                i++;\n",
    "            }else{\n",
    "                j--;\n",
    "            }\n",
    "        }\n",
    "        return max;\n",
    "    }\n",
    "}"
   ]
  },
  {
   "cell_type": "code",
   "execution_count": null,
   "id": "8ef1514b",
   "metadata": {},
   "outputs": [],
   "source": [
    "%python\n",
    "# time: 601ms, 50.96%\n",
    "# memory: 29.32MB, 20.89%\n",
    "\n",
    "class Solution:\n",
    "    def maxArea(self, height: List[int]) -> int:\n",
    "        ma = 0\n",
    "        i = 0\n",
    "        j = len(height) - 1\n",
    "        while i<j:\n",
    "            ma = max(ma, min(height[i],height[j])*(j-i))\n",
    "            if height[i]<height[j]:\n",
    "                i += 1\n",
    "            else:\n",
    "                j -= 1\n",
    "        return ma"
   ]
  }
 ],
 "metadata": {
  "kernelspec": {
   "display_name": "Python 3 (ipykernel)",
   "language": "python",
   "name": "python3"
  },
  "language_info": {
   "codemirror_mode": {
    "name": "ipython",
    "version": 3
   },
   "file_extension": ".py",
   "mimetype": "text/x-python",
   "name": "python",
   "nbconvert_exporter": "python",
   "pygments_lexer": "ipython3",
   "version": "3.9.7"
  }
 },
 "nbformat": 4,
 "nbformat_minor": 5
}
