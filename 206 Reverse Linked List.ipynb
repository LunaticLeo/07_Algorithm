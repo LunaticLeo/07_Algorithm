{
 "cells": [
  {
   "cell_type": "markdown",
   "id": "a5432e1f",
   "metadata": {},
   "source": [
    "# <center>206 Reverse Linked List</center>"
   ]
  },
  {
   "cell_type": "markdown",
   "id": "a09fef3c",
   "metadata": {},
   "source": [
    "Given the `head` of a singly linked list, reverse the list, and return _the reversed list_.\n",
    "\n",
    "**Example 1:**\n",
    "\n",
    "![](https://assets.leetcode.com/uploads/2021/02/19/rev1ex1.jpg)\n",
    "\n",
    "**Input:** head = [1,2,3,4,5]\n",
    "**Output:** [5,4,3,2,1]\n",
    "\n",
    "**Example 2:**\n",
    "\n",
    "![](https://assets.leetcode.com/uploads/2021/02/19/rev1ex2.jpg)\n",
    "\n",
    "**Input:** head = [1,2]\n",
    "**Output:** [2,1]\n",
    "\n",
    "**Example 3:**\n",
    "\n",
    "**Input:** head = []\n",
    "**Output:** []\n",
    "\n",
    "**Constraints:**\n",
    "\n",
    "*   The number of nodes in the list is the range `[0, 5000]`.\n",
    "*   `-5000 <= Node.val <= 5000`\n",
    "\n",
    "**Follow up:** A linked list can be reversed either iteratively or recursively. Could you implement both?"
   ]
  },
  {
   "cell_type": "code",
   "execution_count": null,
   "id": "661c0d30",
   "metadata": {},
   "outputs": [],
   "source": [
    "%%java\n",
    "//Runtime: 0 ms, faster than 100.00% of Java online submissions for Reverse Linked List.\n",
    "//Memory Usage: 38.7 MB, less than 74.62% of Java online submissions for Reverse Linked List.\n",
    "\n",
    "/**\n",
    " * Definition for singly-linked list.\n",
    " * public class ListNode {\n",
    " *     int val;\n",
    " *     ListNode next;\n",
    " *     ListNode() {}\n",
    " *     ListNode(int val) { this.val = val; }\n",
    " *     ListNode(int val, ListNode next) { this.val = val; this.next = next; }\n",
    " * }\n",
    " */\n",
    "class Solution {\n",
    "    public ListNode reverseList(ListNode head) {\n",
    "        ListNode reverse=null;\n",
    "        while(head!=null){\n",
    "            ListNode temp=head;\n",
    "            head=head.next;\n",
    "            temp.next=reverse;\n",
    "            reverse=temp;\n",
    "        }\n",
    "        return reverse;\n",
    "    }\n",
    "}"
   ]
  }
 ],
 "metadata": {
  "kernelspec": {
   "display_name": "Python 3 (ipykernel)",
   "language": "python",
   "name": "python3"
  },
  "language_info": {
   "codemirror_mode": {
    "name": "ipython",
    "version": 3
   },
   "file_extension": ".py",
   "mimetype": "text/x-python",
   "name": "python",
   "nbconvert_exporter": "python",
   "pygments_lexer": "ipython3",
   "version": "3.9.7"
  }
 },
 "nbformat": 4,
 "nbformat_minor": 5
}
