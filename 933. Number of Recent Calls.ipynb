{
 "cells": [
  {
   "cell_type": "markdown",
   "id": "3362ba77",
   "metadata": {},
   "source": [
    "# <center>933. Number of Recent Calls</center>"
   ]
  },
  {
   "cell_type": "markdown",
   "id": "e64b0f11",
   "metadata": {},
   "source": [
    "You have a `RecentCounter` class which counts the number of recent requests within a certain time frame.\n",
    "\n",
    "Implement the `RecentCounter` class:\n",
    "\n",
    "*   `RecentCounter()` Initializes the counter with zero recent requests.\n",
    "*   `int ping(int t)` Adds a new request at time `t`, where `t` represents some time in milliseconds, and returns the number of requests that has happened in the past `3000` milliseconds (including the new request). Specifically, return the number of requests that have happened in the inclusive range `[t - 3000, t]`.\n",
    "\n",
    "It is **guaranteed** that every call to `ping` uses a strictly larger value of `t` than the previous call.\n",
    "\n",
    "**Example 1:**\n",
    "\n",
    "**Input**\n",
    "[\"RecentCounter\", \"ping\", \"ping\", \"ping\", \"ping\"]  \n",
    "[[], [1], [100], [3001], [3002]]  \n",
    "**Output**\n",
    "[null, 1, 2, 3, 3]  \n",
    "\n",
    "**Explanation**\n",
    "RecentCounter recentCounter = new RecentCounter();  \n",
    "recentCounter.ping(1);     // requests = [<u>1</u>], range is [-2999,1], return 1  \n",
    "recentCounter.ping(100);   // requests = [<u>1</u>, <u>100</u>], range is [-2900,100], return 2  \n",
    "recentCounter.ping(3001);  // requests = [<u>1</u>, <u>100</u>, <u>3001</u>], range is [1,3001], return 3  \n",
    "recentCounter.ping(3002);  // requests = [1, <u>100</u>, <u>3001</u>, <u>3002</u>], range is [2,3002], return 3  \n",
    "\n",
    "\n",
    "**Constraints:**\n",
    "\n",
    "*   `1 <= t <= 10<sup>9</sup>`\n",
    "*   Each test case will call `ping` with **strictly increasing** values of `t`.\n",
    "*   At most `10<sup>4</sup>` calls will be made to `ping`."
   ]
  },
  {
   "cell_type": "code",
   "execution_count": null,
   "id": "a3a3f1d1",
   "metadata": {},
   "outputs": [],
   "source": [
    "%%java\n",
    "\n",
    "import java.util.Arrays;\n",
    "class RecentCounter {\n",
    "    private int req;\n",
    "    Queue<Integer> que = new PriorityQueue<>();\n",
    "\n",
    "    public RecentCounter() {\n",
    "        req = 0;\n",
    "    }\n",
    "    \n",
    "    public int ping(int t) {\n",
    "        que.add(t);\n",
    "        while (t - que.peek() > 3000) {\n",
    "            que.poll();\n",
    "        }\n",
    "        return que.size();\n",
    "    }\n",
    "}\n",
    "\n",
    "/**\n",
    " * Your RecentCounter object will be instantiated and called as such:\n",
    " * RecentCounter obj = new RecentCounter();\n",
    " * int param_1 = obj.ping(t);\n",
    " */"
   ]
  },
  {
   "cell_type": "code",
   "execution_count": null,
   "id": "f748de5c",
   "metadata": {},
   "outputs": [],
   "source": []
  }
 ],
 "metadata": {
  "kernelspec": {
   "display_name": "Python 3 (ipykernel)",
   "language": "python",
   "name": "python3"
  },
  "language_info": {
   "codemirror_mode": {
    "name": "ipython",
    "version": 3
   },
   "file_extension": ".py",
   "mimetype": "text/x-python",
   "name": "python",
   "nbconvert_exporter": "python",
   "pygments_lexer": "ipython3",
   "version": "3.9.7"
  }
 },
 "nbformat": 4,
 "nbformat_minor": 5
}
