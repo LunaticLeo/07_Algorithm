{
 "cells": [
  {
   "cell_type": "markdown",
   "id": "eb69d56c",
   "metadata": {},
   "source": [
    "# <center>144 Binary Tree Preorder Traversal</center>"
   ]
  },
  {
   "cell_type": "markdown",
   "id": "7e051f04",
   "metadata": {},
   "source": [
    "Given the `root` of a binary tree, return _the preorder traversal of its nodes' values_.\n",
    "\n",
    "**Example 1:**\n",
    "\n",
    "![](https://assets.leetcode.com/uploads/2020/09/15/inorder_1.jpg)\n",
    "\n",
    "<pre>**Input:** root = [1,null,2,3]\n",
    "**Output:** [1,2,3]\n",
    "</pre>\n",
    "\n",
    "**Example 2:**\n",
    "\n",
    "<pre>**Input:** root = []\n",
    "**Output:** []\n",
    "</pre>\n",
    "\n",
    "**Example 3:**\n",
    "\n",
    "<pre>**Input:** root = [1]\n",
    "**Output:** [1]\n",
    "</pre>\n",
    "\n",
    "**Constraints:**\n",
    "\n",
    "*   The number of nodes in the tree is in the range `[0, 100]`.\n",
    "*   `-100 <= Node.val <= 100`\n",
    "\n",
    "**Follow up:** Recursive solution is trivial, could you do it iteratively?\n"
   ]
  },
  {
   "cell_type": "markdown",
   "id": "79d9f057",
   "metadata": {},
   "source": [
    "## Solution: Recurisive"
   ]
  },
  {
   "cell_type": "code",
   "execution_count": 3,
   "id": "2774c963",
   "metadata": {},
   "outputs": [],
   "source": [
    "%%java\n",
    "// DFS method, using stack\n",
    "// 28.22%, 8.62%\n",
    "class Solution {\n",
    "  public List<Integer> preorderTraversal(TreeNode root) {\n",
    "    LinkedList<TreeNode> stack = new LinkedList<>();\n",
    "    LinkedList<Integer> output = new LinkedList<>();\n",
    "    if (root == null) {\n",
    "      return output;\n",
    "    }\n",
    "\n",
    "    stack.add(root);\n",
    "    while (!stack.isEmpty()) {\n",
    "      TreeNode node = stack.pollLast();\n",
    "      output.add(node.val);\n",
    "      if (node.right != null) {\n",
    "        stack.add(node.right);\n",
    "      }\n",
    "      if (node.left != null) {\n",
    "        stack.add(node.left);\n",
    "      }\n",
    "    }\n",
    "    return output;\n",
    "  }\n",
    "}"
   ]
  },
  {
   "cell_type": "code",
   "execution_count": null,
   "id": "8ef1514b",
   "metadata": {},
   "outputs": [],
   "source": [
    "%%python\n",
    "\n",
    "class Solution(object):\n",
    "    def preorderTraversal(self, root):\n",
    "        \"\"\"\n",
    "        :type root: TreeNode\n",
    "        :rtype: List[int]\n",
    "        \"\"\"\n",
    "        if root is None:\n",
    "            return []\n",
    "        \n",
    "        stack, output = [root, ], []\n",
    "        \n",
    "        while stack:\n",
    "            root = stack.pop()\n",
    "            if root is not None:\n",
    "                output.append(root.val)\n",
    "                if root.right is not None:\n",
    "                    stack.append(root.right)\n",
    "                if root.left is not None:\n",
    "                    stack.append(root.left)\n",
    "        \n",
    "        return output"
   ]
  },
  {
   "cell_type": "markdown",
   "id": "694985ca",
   "metadata": {},
   "source": [
    "## Solution: Morris Traversal"
   ]
  },
  {
   "cell_type": "markdown",
   "id": "f93dd500",
   "metadata": {},
   "source": [
    "## Solution: Iterate"
   ]
  },
  {
   "cell_type": "code",
   "execution_count": null,
   "id": "1c308ebc",
   "metadata": {},
   "outputs": [],
   "source": [
    "%%java\n",
    "// 100%, 9.16%\n",
    "class Solution {\n",
    "    public List<Integer> preorderTraversal(TreeNode root) {\n",
    "      LinkedList<Integer> arr = new LinkedList<Integer>();\n",
    "      Iterate(arr,root);\n",
    "      return arr;\n",
    "    }\n",
    "    public void Iterate(LinkedList<Integer> arr, TreeNode node){\n",
    "        if(node == null) return;\n",
    "        arr.add(node.val);\n",
    "        Iterate(arr,node.left);\n",
    "        Iterate(arr,node.right);\n",
    "        return ;\n",
    "    }\n",
    "}"
   ]
  },
  {
   "cell_type": "code",
   "execution_count": null,
   "id": "c760ddb1",
   "metadata": {},
   "outputs": [],
   "source": [
    "%%python\n",
    "class Solution(object):\n",
    "    def preorderTraversal(self, root):\n",
    "        def Iterate( arr,node):\n",
    "            if node == None:\n",
    "                return \n",
    "            arr.append(node.val)\n",
    "            Iterate(arr,node.left)\n",
    "            Iterate(arr,node.right)\n",
    "        arr = []\n",
    "        \n",
    "        Iterate(arr,root)\n",
    "        return arr"
   ]
  }
 ],
 "metadata": {
  "kernelspec": {
   "display_name": "Python 3 (ipykernel)",
   "language": "python",
   "name": "python3"
  },
  "language_info": {
   "codemirror_mode": {
    "name": "ipython",
    "version": 3
   },
   "file_extension": ".py",
   "mimetype": "text/x-python",
   "name": "python",
   "nbconvert_exporter": "python",
   "pygments_lexer": "ipython3",
   "version": "3.9.7"
  }
 },
 "nbformat": 4,
 "nbformat_minor": 5
}
