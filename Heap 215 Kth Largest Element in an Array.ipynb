{
 "cells": [
  {
   "cell_type": "markdown",
   "id": "eb69d56c",
   "metadata": {},
   "source": [
    "# <center>Kth Largest Element in an Array</center>"
   ]
  },
  {
   "cell_type": "markdown",
   "id": "7e051f04",
   "metadata": {},
   "source": [
    "Given an integer array `nums` and an integer `k`, return _the_ `k<sup>th</sup>` _largest element in the array_.\n",
    "\n",
    "Note that it is the `k<sup>th</sup>` largest element in the sorted order, not the `k<sup>th</sup>` distinct element.\n",
    "\n",
    "**Example 1:**\n",
    "\n",
    "<pre>**Input:** nums = [3,2,1,5,6,4], k = 2\n",
    "**Output:** 5\n",
    "</pre>\n",
    "\n",
    "**Example 2:**\n",
    "\n",
    "<pre>**Input:** nums = [3,2,3,1,2,4,5,5,6], k = 4\n",
    "**Output:** 4\n",
    "</pre>\n",
    "\n",
    "**Constraints:**\n",
    "\n",
    "*   `1 <= k <= nums.length <= 10<sup>4</sup>`\n",
    "*   `-10<sup>4</sup> <= nums[i] <= 10<sup>4</sup>`\n"
   ]
  },
  {
   "cell_type": "markdown",
   "id": "ed51bfb0",
   "metadata": {},
   "source": [
    "## Solution: Sort"
   ]
  },
  {
   "cell_type": "code",
   "execution_count": 3,
   "id": "2774c963",
   "metadata": {},
   "outputs": [],
   "source": [
    "%%java\n",
    "// Swap Sort\n",
    "// 134 ms; 5.22%;\n",
    "// 44.4 MB; 20.37%;\n",
    "class Solution {\n",
    "    public int findKthLargest(int[] nums, int k) {\n",
    "        for(int i=0;i<nums.length;i++){\n",
    "            int temp = i;\n",
    "            for(int j=i+1;j<nums.length;j++){\n",
    "                if(nums[temp] < nums[j]){\n",
    "                    temp = j;\n",
    "                }\n",
    "            }\n",
    "            if(temp != i){\n",
    "                int swap = nums[i];\n",
    "                nums[i] = nums[temp];\n",
    "                nums[temp] = swap;\n",
    "            }\n",
    "        }\n",
    "        return nums[k-1];\n",
    "    }\n",
    "}"
   ]
  },
  {
   "cell_type": "code",
   "execution_count": null,
   "id": "8ef1514b",
   "metadata": {},
   "outputs": [],
   "source": [
    "%%python\n",
    "# 117 ms; 33.35%;\n",
    "# 14.9 MB; 83.24%;\n",
    "class Solution:\n",
    "    def findKthLargest(self, nums: List[int], k: int) -> int:\n",
    "        list.sort(nums,reverse = True)\n",
    "        return nums[k-1]"
   ]
  },
  {
   "cell_type": "markdown",
   "id": "54731e31",
   "metadata": {},
   "source": [
    "## Solution: Morris Traversal"
   ]
  },
  {
   "cell_type": "code",
   "execution_count": null,
   "id": "396b7717",
   "metadata": {},
   "outputs": [],
   "source": [
    "%%java\n",
    "class Solution {\n",
    "  public List<Integer> preorderTraversal(TreeNode root) {\n",
    "    LinkedList<Integer> output = new LinkedList<>();\n",
    "\n",
    "    TreeNode node = root;\n",
    "    while (node != null) {\n",
    "      if (node.left == null) {\n",
    "        output.add(node.val);\n",
    "        node = node.right;\n",
    "      }\n",
    "      else {\n",
    "        TreeNode predecessor = node.left;\n",
    "        while ((predecessor.right != null) && (predecessor.right != node)) {\n",
    "          predecessor = predecessor.right;\n",
    "        }\n",
    "\n",
    "        if (predecessor.right == null) {\n",
    "          output.add(node.val);\n",
    "          predecessor.right = node;\n",
    "          node = node.left;\n",
    "        }\n",
    "        else{\n",
    "          predecessor.right = null;\n",
    "          node = node.right;\n",
    "        }\n",
    "      }\n",
    "    }\n",
    "    return output;\n",
    "  }\n",
    "}"
   ]
  },
  {
   "cell_type": "markdown",
   "id": "a401da67",
   "metadata": {},
   "source": [
    "## Solution: Iterate"
   ]
  },
  {
   "cell_type": "code",
   "execution_count": null,
   "id": "6e88ce84",
   "metadata": {},
   "outputs": [],
   "source": [
    "%%java\n",
    "// 100%, 9.16%\n",
    "class Solution {\n",
    "    public List<Integer> preorderTraversal(TreeNode root) {\n",
    "      LinkedList<Integer> arr = new LinkedList<Integer>();\n",
    "      Iterate(arr,root);\n",
    "      return arr;\n",
    "    }\n",
    "    public void Iterate(LinkedList<Integer> arr, TreeNode node){\n",
    "        if(node == null) return;\n",
    "        arr.add(node.val);\n",
    "        Iterate(arr,node.left);\n",
    "        Iterate(arr,node.right);\n",
    "        return ;\n",
    "    }\n",
    "}"
   ]
  },
  {
   "cell_type": "code",
   "execution_count": null,
   "id": "5725374c",
   "metadata": {},
   "outputs": [],
   "source": [
    "%%python\n",
    "class Solution(object):\n",
    "    def preorderTraversal(self, root):\n",
    "        def Iterate( arr,node):\n",
    "            if node == None:\n",
    "                return \n",
    "            arr.append(node.val)\n",
    "            Iterate(arr,node.left)\n",
    "            Iterate(arr,node.right)\n",
    "        arr = []\n",
    "        \n",
    "        Iterate(arr,root)\n",
    "        return arr"
   ]
  }
 ],
 "metadata": {
  "kernelspec": {
   "display_name": "Python 3 (ipykernel)",
   "language": "python",
   "name": "python3"
  },
  "language_info": {
   "codemirror_mode": {
    "name": "ipython",
    "version": 3
   },
   "file_extension": ".py",
   "mimetype": "text/x-python",
   "name": "python",
   "nbconvert_exporter": "python",
   "pygments_lexer": "ipython3",
   "version": "3.9.7"
  }
 },
 "nbformat": 4,
 "nbformat_minor": 5
}
